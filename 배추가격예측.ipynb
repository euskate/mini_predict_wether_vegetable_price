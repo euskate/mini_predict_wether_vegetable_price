{
  "nbformat": 4,
  "nbformat_minor": 0,
  "metadata": {
    "colab": {
      "name": "배추가격예측.ipynb",
      "provenance": [],
      "collapsed_sections": []
    },
    "kernelspec": {
      "name": "python3",
      "display_name": "Python 3"
    }
  },
  "cells": [
    {
      "cell_type": "markdown",
      "metadata": {
        "id": "quD_-KthW956",
        "colab_type": "text"
      },
      "source": [
        ""
      ]
    },
    {
      "cell_type": "code",
      "metadata": {
        "id": "_qW-bqa8H8mK",
        "colab_type": "code",
        "colab": {
          "base_uri": "https://localhost:8080/",
          "height": 132
        },
        "outputId": "ca54bc13-6579-4327-944b-b43d20ac5854"
      },
      "source": [
        "# 라이브러리 불러오기\n",
        "import os\n",
        "import numpy as np\n",
        "import pandas as pd\n",
        "%tensorflow_version 1.x  # 텐서플로우 1.x 버전 사용\n",
        "import tensorflow as tf\n",
        "tf.__version__"
      ],
      "execution_count": 3,
      "outputs": [
        {
          "output_type": "stream",
          "text": [
            "`%tensorflow_version` only switches the major version: 1.x or 2.x.\n",
            "You set: `1.x  # 텐서플로우 1.x 버전 사용`. This will be interpreted as: `1.x`.\n",
            "\n",
            "\n",
            "TensorFlow is already loaded. Please restart the runtime to change versions.\n"
          ],
          "name": "stdout"
        },
        {
          "output_type": "execute_result",
          "data": {
            "text/plain": [
              "'1.15.2'"
            ]
          },
          "metadata": {
            "tags": []
          },
          "execution_count": 3
        }
      ]
    },
    {
      "cell_type": "code",
      "metadata": {
        "id": "HQS36uRdH_OG",
        "colab_type": "code",
        "colab": {
          "base_uri": "https://localhost:8080/",
          "height": 323
        },
        "outputId": "03ea0051-04d6-465a-d1f9-db6f002f96dd"
      },
      "source": [
        "# 데이터 가져오기 (안경잡이 개발자 블로그)\n",
        "!wget https://ndb796.tistory.com/attachment/cfile3.uf@994519435B7D9B9F150FF5.csv"
      ],
      "execution_count": 2,
      "outputs": [
        {
          "output_type": "stream",
          "text": [
            "--2020-04-16 04:58:55--  https://ndb796.tistory.com/attachment/cfile3.uf@994519435B7D9B9F150FF5.csv\n",
            "Resolving ndb796.tistory.com (ndb796.tistory.com)... 211.231.99.250\n",
            "Connecting to ndb796.tistory.com (ndb796.tistory.com)|211.231.99.250|:443... connected.\n",
            "HTTP request sent, awaiting response... 302 Found\n",
            "Location: https://t1.daumcdn.net/cfile/tistory/994519435B7D9B9F15?download [following]\n",
            "--2020-04-16 04:58:55--  https://t1.daumcdn.net/cfile/tistory/994519435B7D9B9F15?download\n",
            "Resolving t1.daumcdn.net (t1.daumcdn.net)... 210.61.207.152\n",
            "Connecting to t1.daumcdn.net (t1.daumcdn.net)|210.61.207.152|:443... connected.\n",
            "HTTP request sent, awaiting response... 200 OK\n",
            "Length: 93046 (91K) [text/csv]\n",
            "Saving to: ‘cfile3.uf@994519435B7D9B9F150FF5.csv’\n",
            "\n",
            "cfile3.uf@994519435 100%[===================>]  90.87K   516KB/s    in 0.2s    \n",
            "\n",
            "2020-04-16 04:58:56 (516 KB/s) - ‘cfile3.uf@994519435B7D9B9F150FF5.csv’ saved [93046/93046]\n",
            "\n"
          ],
          "name": "stdout"
        }
      ]
    },
    {
      "cell_type": "code",
      "metadata": {
        "id": "vyibCB1kXCfR",
        "colab_type": "code",
        "colab": {}
      },
      "source": [
        "# 파일명 바꾸기\n",
        "os.rename('cfile3.uf@994519435B7D9B9F150FF5.csv', 'raw_data.csv')"
      ],
      "execution_count": 0,
      "outputs": []
    },
    {
      "cell_type": "code",
      "metadata": {
        "id": "CHLR8Y84WnaR",
        "colab_type": "code",
        "colab": {}
      },
      "source": [
        "# 데이터프레임 불러오기\n",
        "raw_df = pd.read_csv('raw_data.csv', sep=',')"
      ],
      "execution_count": 0,
      "outputs": []
    },
    {
      "cell_type": "code",
      "metadata": {
        "id": "HIcpyh-hNSDN",
        "colab_type": "code",
        "colab": {
          "base_uri": "https://localhost:8080/",
          "height": 198
        },
        "outputId": "c801612d-074b-45e0-c487-bd4e2522c803"
      },
      "source": [
        "# 데이터 확인\n",
        "raw_df.head()"
      ],
      "execution_count": 8,
      "outputs": [
        {
          "output_type": "execute_result",
          "data": {
            "text/html": [
              "<div>\n",
              "<style scoped>\n",
              "    .dataframe tbody tr th:only-of-type {\n",
              "        vertical-align: middle;\n",
              "    }\n",
              "\n",
              "    .dataframe tbody tr th {\n",
              "        vertical-align: top;\n",
              "    }\n",
              "\n",
              "    .dataframe thead th {\n",
              "        text-align: right;\n",
              "    }\n",
              "</style>\n",
              "<table border=\"1\" class=\"dataframe\">\n",
              "  <thead>\n",
              "    <tr style=\"text-align: right;\">\n",
              "      <th></th>\n",
              "      <th>year</th>\n",
              "      <th>avgTemp</th>\n",
              "      <th>minTemp</th>\n",
              "      <th>maxTemp</th>\n",
              "      <th>rainFall</th>\n",
              "      <th>avgPrice</th>\n",
              "    </tr>\n",
              "  </thead>\n",
              "  <tbody>\n",
              "    <tr>\n",
              "      <th>0</th>\n",
              "      <td>20100101</td>\n",
              "      <td>-4.9</td>\n",
              "      <td>-11.0</td>\n",
              "      <td>0.9</td>\n",
              "      <td>0.0</td>\n",
              "      <td>2123</td>\n",
              "    </tr>\n",
              "    <tr>\n",
              "      <th>1</th>\n",
              "      <td>20100102</td>\n",
              "      <td>-3.1</td>\n",
              "      <td>-5.5</td>\n",
              "      <td>5.5</td>\n",
              "      <td>0.8</td>\n",
              "      <td>2123</td>\n",
              "    </tr>\n",
              "    <tr>\n",
              "      <th>2</th>\n",
              "      <td>20100103</td>\n",
              "      <td>-2.9</td>\n",
              "      <td>-6.9</td>\n",
              "      <td>1.4</td>\n",
              "      <td>0.0</td>\n",
              "      <td>2123</td>\n",
              "    </tr>\n",
              "    <tr>\n",
              "      <th>3</th>\n",
              "      <td>20100104</td>\n",
              "      <td>-1.8</td>\n",
              "      <td>-5.1</td>\n",
              "      <td>2.2</td>\n",
              "      <td>5.9</td>\n",
              "      <td>2020</td>\n",
              "    </tr>\n",
              "    <tr>\n",
              "      <th>4</th>\n",
              "      <td>20100105</td>\n",
              "      <td>-5.2</td>\n",
              "      <td>-8.7</td>\n",
              "      <td>-1.8</td>\n",
              "      <td>0.7</td>\n",
              "      <td>2060</td>\n",
              "    </tr>\n",
              "  </tbody>\n",
              "</table>\n",
              "</div>"
            ],
            "text/plain": [
              "       year  avgTemp  minTemp  maxTemp  rainFall  avgPrice\n",
              "0  20100101     -4.9    -11.0      0.9       0.0      2123\n",
              "1  20100102     -3.1     -5.5      5.5       0.8      2123\n",
              "2  20100103     -2.9     -6.9      1.4       0.0      2123\n",
              "3  20100104     -1.8     -5.1      2.2       5.9      2020\n",
              "4  20100105     -5.2     -8.7     -1.8       0.7      2060"
            ]
          },
          "metadata": {
            "tags": []
          },
          "execution_count": 8
        }
      ]
    },
    {
      "cell_type": "code",
      "metadata": {
        "id": "sSRShgj0Xm4x",
        "colab_type": "code",
        "colab": {
          "base_uri": "https://localhost:8080/",
          "height": 36
        },
        "outputId": "4f3ccf14-ccfc-40ae-c89b-de6d72a6a5fd"
      },
      "source": [
        " # 데이터 크기 확인\n",
        " raw_df.shape"
      ],
      "execution_count": 9,
      "outputs": [
        {
          "output_type": "execute_result",
          "data": {
            "text/plain": [
              "(2922, 6)"
            ]
          },
          "metadata": {
            "tags": []
          },
          "execution_count": 9
        }
      ]
    },
    {
      "cell_type": "code",
      "metadata": {
        "id": "K-D3cuXGXsGA",
        "colab_type": "code",
        "colab": {
          "base_uri": "https://localhost:8080/",
          "height": 36
        },
        "outputId": "45ba2d78-d0c1-4bba-c2ea-9606e576501f"
      },
      "source": [
        "# 모든 변수 확인\n",
        "raw_df.columns"
      ],
      "execution_count": 10,
      "outputs": [
        {
          "output_type": "execute_result",
          "data": {
            "text/plain": [
              "Index(['year', 'avgTemp', 'minTemp', 'maxTemp', 'rainFall', 'avgPrice'], dtype='object')"
            ]
          },
          "metadata": {
            "tags": []
          },
          "execution_count": 10
        }
      ]
    },
    {
      "cell_type": "markdown",
      "metadata": {
        "id": "588U4b65KIbl",
        "colab_type": "text"
      },
      "source": [
        "### 데이터 설명\n",
        "\n",
        "- 출처 1 : 일별 기상 정보 > [기상자료개방포털 다중지점통계](https://data.kma.go.kr/climate/StatisticsDivision/selectStatisticsDivision.do?pgmNo=158)\n",
        "  - year : 일시\n",
        "  - avgTemp : 평균기온\n",
        "  - minTemp : 최저기온 평균\n",
        "  - maxTemp : 최저기온\n",
        "  - rainFall : 강수량\n",
        "- 출처 2 : 배추 가격 정보 > [농산물 유통 정보](https://www.kamis.or.kr/customer/price/retail/period.do?action=daily)\n",
        "  - avgPrice : 평균가격"
      ]
    },
    {
      "cell_type": "code",
      "metadata": {
        "id": "9pFtXd5VKHVd",
        "colab_type": "code",
        "colab": {}
      },
      "source": [
        "# 데이터프레임 -> 배열\n",
        "raw_array = np.array(raw_df, dtype=np.float32)"
      ],
      "execution_count": 0,
      "outputs": []
    },
    {
      "cell_type": "code",
      "metadata": {
        "id": "Q4glYNrPI34t",
        "colab_type": "code",
        "colab": {
          "base_uri": "https://localhost:8080/",
          "height": 36
        },
        "outputId": "b9ff3554-8920-49e2-90c3-75b693ee4a5f"
      },
      "source": [
        "# 독립변수 : 기상요인 ['avgTemp', 'minTemp', 'maxTemp', 'rainFall'] \n",
        "x_data = raw_array[:, 1:-1]\n",
        "x_data.shape"
      ],
      "execution_count": 12,
      "outputs": [
        {
          "output_type": "execute_result",
          "data": {
            "text/plain": [
              "(2922, 4)"
            ]
          },
          "metadata": {
            "tags": []
          },
          "execution_count": 12
        }
      ]
    },
    {
      "cell_type": "code",
      "metadata": {
        "id": "iSgK5_IyJHFi",
        "colab_type": "code",
        "colab": {}
      },
      "source": [
        "# 종속변수 : 배추가격 ['avgPrice']\n",
        "y_data = raw_array[:, [-1]]"
      ],
      "execution_count": 0,
      "outputs": []
    },
    {
      "cell_type": "code",
      "metadata": {
        "id": "Ao4QXjfkMcjJ",
        "colab_type": "code",
        "colab": {}
      },
      "source": [
        "# 초기화\n",
        "model = tf.global_variables_initializer();\n",
        "\n",
        "# 플레이스 홀더 설정 : 독립변수, 종속변수, 가중치, 편향\n",
        "X = tf.placeholder(tf.float32, shape=[None, 4])\n",
        "Y = tf.placeholder(tf.float32, shape=[None, 1])\n",
        "W = tf.Variable(tf.random_normal([4, 1]), name=\"weight\")\n",
        "b = tf.Variable(tf.random_normal([1]), name=\"bias\")"
      ],
      "execution_count": 0,
      "outputs": []
    },
    {
      "cell_type": "code",
      "metadata": {
        "id": "UR3RzRadNetw",
        "colab_type": "code",
        "colab": {}
      },
      "source": [
        "# 가설 설정\n",
        "hypothesis = tf.matmul(X, W) + b\n",
        "\n",
        "# 비용 함수 설정\n",
        "cost = tf.reduce_mean(tf.square(hypothesis - Y))\n",
        "\n",
        "# 최적화 함수 설정\n",
        "optimizer = tf.train.GradientDescentOptimizer(learning_rate=0.000005)\n",
        "train = optimizer.minimize(cost)"
      ],
      "execution_count": 0,
      "outputs": []
    },
    {
      "cell_type": "code",
      "metadata": {
        "id": "fK9uIXnmQBPG",
        "colab_type": "code",
        "colab": {
          "base_uri": "https://localhost:8080/",
          "height": 1000
        },
        "outputId": "a81ab755-3360-4b06-e49d-2d8cd799e984"
      },
      "source": [
        "# 세션 생성\n",
        "with tf.Session() as sess:\n",
        "  # 글로벌 변수를 초기화\n",
        "  sess.run(tf.global_variables_initializer())\n",
        "\n",
        "  # 학습 수행\n",
        "  for step in range(30001):\n",
        "    cost_, hypo_, _ = sess.run([cost, hypothesis, train], feed_dict={X: x_data, Y: y_data})\n",
        "    if step % 500 == 0:\n",
        "      print(\"#step : \", step, \"\\t# loss :  \", cost_, \"\\t# 배추 가격: \", hypo_[0])\n",
        "\n",
        "  # 학습된 모델 저장\n",
        "  saver = tf.train.Saver()\n",
        "  save_path = saver.save(sess, \"./saved.cpkt\")"
      ],
      "execution_count": 20,
      "outputs": [
        {
          "output_type": "stream",
          "text": [
            "#step :  0 \t# loss :   12854550.0 \t# 배추 가격:  [20.056648]\n",
            "#step :  500 \t# loss :   4184173.8 \t# 배추 가격:  [-268.99045]\n",
            "#step :  1000 \t# loss :   3779431.2 \t# 배추 가격:  [40.014668]\n",
            "#step :  1500 \t# loss :   3463434.0 \t# 배추 가격:  [321.66373]\n",
            "#step :  2000 \t# loss :   3214940.5 \t# 배추 가격:  [571.89374]\n",
            "#step :  2500 \t# loss :   3019047.8 \t# 배추 가격:  [794.2025]\n",
            "#step :  3000 \t# loss :   2864369.8 \t# 배추 가격:  [991.7623]\n",
            "#step :  3500 \t# loss :   2742104.0 \t# 배추 가격:  [1167.3636]\n",
            "#step :  4000 \t# loss :   2645384.2 \t# 배추 가격:  [1323.4767]\n",
            "#step :  4500 \t# loss :   2568830.8 \t# 배추 가격:  [1462.284]\n",
            "#step :  5000 \t# loss :   2508210.0 \t# 배추 가격:  [1585.7189]\n",
            "#step :  5500 \t# loss :   2460187.2 \t# 배추 가격:  [1695.4932]\n",
            "#step :  6000 \t# loss :   2422127.0 \t# 배추 가격:  [1793.1262]\n",
            "#step :  6500 \t# loss :   2391948.5 \t# 배추 가격:  [1879.9664]\n",
            "#step :  7000 \t# loss :   2368006.5 \t# 배추 가격:  [1957.2107]\n",
            "#step :  7500 \t# loss :   2348998.2 \t# 배추 가격:  [2025.9219]\n",
            "#step :  8000 \t# loss :   2333896.2 \t# 배추 가격:  [2087.0447]\n",
            "#step :  8500 \t# loss :   2321883.8 \t# 배추 가격:  [2141.4197]\n",
            "#step :  9000 \t# loss :   2312317.0 \t# 배추 가격:  [2189.7915]\n",
            "#step :  9500 \t# loss :   2304686.2 \t# 배추 가격:  [2232.825]\n",
            "#step :  10000 \t# loss :   2298587.5 \t# 배추 가격:  [2271.1091]\n",
            "#step :  10500 \t# loss :   2293700.5 \t# 배추 가격:  [2305.1692]\n",
            "#step :  11000 \t# loss :   2289774.0 \t# 배추 가격:  [2335.4712]\n",
            "#step :  11500 \t# loss :   2286606.2 \t# 배추 가격:  [2362.4316]\n",
            "#step :  12000 \t# loss :   2284039.5 \t# 배추 가격:  [2386.4182]\n",
            "#step :  12500 \t# loss :   2281949.0 \t# 배추 가격:  [2407.76]\n",
            "#step :  13000 \t# loss :   2280235.8 \t# 배추 가격:  [2426.748]\n",
            "#step :  13500 \t# loss :   2278819.0 \t# 배추 가격:  [2443.643]\n",
            "#step :  14000 \t# loss :   2277639.8 \t# 배추 가격:  [2458.6765]\n",
            "#step :  14500 \t# loss :   2276645.8 \t# 배추 가격:  [2472.0525]\n",
            "#step :  15000 \t# loss :   2275801.2 \t# 배추 가격:  [2483.9556]\n",
            "#step :  15500 \t# loss :   2275072.2 \t# 배추 가격:  [2494.5469]\n",
            "#step :  16000 \t# loss :   2274436.8 \t# 배추 가격:  [2503.9731]\n",
            "#step :  16500 \t# loss :   2273874.2 \t# 배추 가격:  [2512.3606]\n",
            "#step :  17000 \t# loss :   2273370.5 \t# 배추 가격:  [2519.8257]\n",
            "#step :  17500 \t# loss :   2272912.2 \t# 배추 가격:  [2526.4692]\n",
            "#step :  18000 \t# loss :   2272490.5 \t# 배추 가격:  [2532.3818]\n",
            "#step :  18500 \t# loss :   2272098.0 \t# 배추 가격:  [2537.6448]\n",
            "#step :  19000 \t# loss :   2271728.5 \t# 배추 가격:  [2542.3293]\n",
            "#step :  19500 \t# loss :   2271376.8 \t# 배추 가격:  [2546.4995]\n",
            "#step :  20000 \t# loss :   2271039.5 \t# 배추 가격:  [2550.2136]\n",
            "#step :  20500 \t# loss :   2270714.2 \t# 배추 가격:  [2553.519]\n",
            "#step :  21000 \t# loss :   2270397.5 \t# 배추 가격:  [2556.4617]\n",
            "#step :  21500 \t# loss :   2270088.5 \t# 배추 가격:  [2559.082]\n",
            "#step :  22000 \t# loss :   2269785.0 \t# 배추 가격:  [2561.4165]\n",
            "#step :  22500 \t# loss :   2269486.0 \t# 배추 가격:  [2563.495]\n",
            "#step :  23000 \t# loss :   2269191.0 \t# 배추 가격:  [2565.3494]\n",
            "#step :  23500 \t# loss :   2268899.0 \t# 배추 가격:  [2566.9983]\n",
            "#step :  24000 \t# loss :   2268609.0 \t# 배추 가격:  [2568.4668]\n",
            "#step :  24500 \t# loss :   2268321.5 \t# 배추 가격:  [2569.7769]\n",
            "#step :  25000 \t# loss :   2268035.2 \t# 배추 가격:  [2570.945]\n",
            "#step :  25500 \t# loss :   2267750.5 \t# 배추 가격:  [2571.9875]\n",
            "#step :  26000 \t# loss :   2267466.5 \t# 배추 가격:  [2572.9197]\n",
            "#step :  26500 \t# loss :   2267183.8 \t# 배추 가격:  [2573.7534]\n",
            "#step :  27000 \t# loss :   2266901.0 \t# 배추 가격:  [2574.489]\n",
            "#step :  27500 \t# loss :   2266619.0 \t# 배추 가격:  [2575.1394]\n",
            "#step :  28000 \t# loss :   2266338.8 \t# 배추 가격:  [2575.7415]\n",
            "#step :  28500 \t# loss :   2266058.5 \t# 배추 가격:  [2576.2708]\n",
            "#step :  29000 \t# loss :   2265777.5 \t# 배추 가격:  [2576.7566]\n",
            "#step :  29500 \t# loss :   2265498.2 \t# 배추 가격:  [2577.1826]\n",
            "#step :  30000 \t# loss :   2265218.2 \t# 배추 가격:  [2577.5544]\n"
          ],
          "name": "stdout"
        }
      ]
    },
    {
      "cell_type": "code",
      "metadata": {
        "id": "HNrABzuFRTi4",
        "colab_type": "code",
        "colab": {
          "base_uri": "https://localhost:8080/",
          "height": 151
        },
        "outputId": "5ba182b6-2feb-4da1-8101-12ebc6009c19"
      },
      "source": [
        "##### 예측하기 \n",
        "# 4가지 변수를 입력 받습니다.\n",
        "print(\"배추값 예측입니다. 기온 정보를 입력해주세요.\")\n",
        "avg_temp = float(input('평균 온도: '))\n",
        "min_temp = float(input('최저 온도: '))\n",
        "max_temp = float(input('최고 온도: '))\n",
        "rain_fall = float(input('강수량: '))\n",
        "\n",
        "with tf.Session() as sess:\n",
        "    # 저장된 학습 모델을 파일로부터 불러옵니다.\n",
        "    save_path = \"./saved.cpkt\"\n",
        "    saver.restore(sess, save_path)\n",
        "\n",
        "    # 사용자의 입력 값을 이용해 배열을 만듭니다.\n",
        "    data = ((avg_temp, min_temp, max_temp, rain_fall), )\n",
        "    arr = np.array(data, dtype=np.float32)\n",
        "\n",
        "    # 예측을 수행한 뒤에 그 결과를 출력합니다.\n",
        "    x_data = arr[0:4]\n",
        "    dict = sess.run(hypothesis, feed_dict={X: x_data})\n",
        "\n",
        "    print(f'배추 예측값은 {int(dict[0][0])}원 입니다.')"
      ],
      "execution_count": 25,
      "outputs": [
        {
          "output_type": "stream",
          "text": [
            "배추값 예측입니다. 기온 정보를 입력해주세요.\n",
            "평균 온도: 10\n",
            "최저 온도: 0\n",
            "최고 온도: 20\n",
            "강수량: 0\n",
            "INFO:tensorflow:Restoring parameters from ./saved.cpkt\n",
            "배추 예측값은 5092원 입니다.\n"
          ],
          "name": "stdout"
        }
      ]
    }
  ]
}